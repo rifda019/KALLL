{
 "cells": [
  {
   "cell_type": "markdown",
   "metadata": {},
   "source": [
    "# Sistem Persamaan Linier\n",
    "\n",
    "Sistem persamaan linier adalah kumpulan dua atau lebih persamaan yang melibatkan variabel-variabel yang sama, dan setiap persamaan dalam sistem tersebut membentuk suatu garis lurus jika digambarkan dalam grafik. Tujuan dari sistem persamaan linier adalah mencari nilai dari variabel-variabel yang memenuhi semua persamaan dalam sistem tersebut secara bersamaan. \n",
    "\n",
    "Misalnya, jika ada dua persamaan yang melibatkan dua variabel, sistem ini mencari nilai yang tepat untuk kedua variabel tersebut, sehingga kedua persamaan tersebut dipenuhi. Penyelesaian dari sistem persamaan linier bisa berupa satu titik pertemuan antara dua garis dalam grafik, yang menunjukkan nilai-nilai variabel yang tepat.\n",
    "\n",
    "Sistem ini digunakan dalam berbagai bidang, seperti matematika, ekonomi, dan teknik, untuk menyelesaikan masalah yang melibatkan hubungan linier antara berbagai variabel."
   ]
  }
 ],
 "metadata": {
  "kernelspec": {
   "display_name": "Python 3",
   "language": "python",
   "name": "python3"
  },
  "language_info": {
   "codemirror_mode": {
    "name": "ipython",
    "version": 3
   },
   "file_extension": ".py",
   "mimetype": "text/x-python",
   "name": "python",
   "nbconvert_exporter": "python",
   "pygments_lexer": "ipython3",
   "version": "3.8.0"
  },
  "widgets": {
   "application/vnd.jupyter.widget-state+json": {
    "state": {},
    "version_major": 2,
    "version_minor": 0
   }
  }
 },
 "nbformat": 4,
 "nbformat_minor": 4
}
